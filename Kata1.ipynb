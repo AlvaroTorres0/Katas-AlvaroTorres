{
 "cells": [
  {
   "cell_type": "markdown",
   "metadata": {},
   "source": [
    "# Tu primer programa"
   ]
  },
  {
   "cell_type": "code",
   "execution_count": 11,
   "metadata": {},
   "outputs": [
    {
     "name": "stdout",
     "output_type": "stream",
     "text": [
      "Today's date is:  2022-02-08\n"
     ]
    }
   ],
   "source": [
    "from datetime import date\n",
    "objetoDate = date.today()\n",
    "\n",
    "print(\"Today's date is: \",objetoDate)"
   ]
  },
  {
   "cell_type": "markdown",
   "metadata": {},
   "source": [
    "# Construir un convertidor de unidades"
   ]
  },
  {
   "cell_type": "code",
   "execution_count": 12,
   "metadata": {},
   "outputs": [
    {
     "name": "stdout",
     "output_type": "stream",
     "text": [
      "11 parsec, is 35.8772 lightyears\n"
     ]
    }
   ],
   "source": [
    "\n",
    "parsec = 11\n",
    "\n",
    "lightyears = 3.26156\n",
    "\n",
    "final = round(parsec*lightyears,4)\n",
    "\n",
    "print(str(parsec) + \" parsec, is \" + str(final) + \" lightyears\")"
   ]
  }
 ],
 "metadata": {
  "interpreter": {
   "hash": "0f2bbd419dfdaa86ab0988cd66e07ab8fc135ed5cc75cf6f6be33f890a159408"
  },
  "kernelspec": {
   "display_name": "Python 3.9.7 64-bit",
   "language": "python",
   "name": "python3"
  },
  "language_info": {
   "codemirror_mode": {
    "name": "ipython",
    "version": 3
   },
   "file_extension": ".py",
   "mimetype": "text/x-python",
   "name": "python",
   "nbconvert_exporter": "python",
   "pygments_lexer": "ipython3",
   "version": "3.9.7"
  },
  "orig_nbformat": 4
 },
 "nbformat": 4,
 "nbformat_minor": 2
}
