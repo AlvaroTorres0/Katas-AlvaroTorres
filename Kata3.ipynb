{
 "cells": [
  {
   "cell_type": "markdown",
   "metadata": {},
   "source": [
    "# Ejercicio - Escribir declaraciones if, else, y elif"
   ]
  },
  {
   "cell_type": "markdown",
   "metadata": {},
   "source": [
    "# 1.-"
   ]
  },
  {
   "cell_type": "code",
   "execution_count": 275,
   "metadata": {},
   "outputs": [
    {
     "name": "stdout",
     "output_type": "stream",
     "text": [
      "Córranle\n"
     ]
    }
   ],
   "source": [
    "velocidad = 49\n",
    "\n",
    "if(velocidad>25):\n",
    "    print(\"Córranle\")\n",
    "else:\n",
    "    print(\"No pasa nada :)\")"
   ]
  },
  {
   "cell_type": "markdown",
   "metadata": {},
   "source": [
    "# 2.-"
   ]
  },
  {
   "cell_type": "code",
   "execution_count": 276,
   "metadata": {},
   "outputs": [
    {
     "name": "stdout",
     "output_type": "stream",
     "text": [
      "No salgas no hay nada\n"
     ]
    }
   ],
   "source": [
    "asteroide = 19\n",
    "\n",
    "if(asteroide==20):\n",
    "    print(\"Sal a ver :)\")\n",
    "elif(asteroide>20):\n",
    "    print(\"Sal a ver :)\")\n",
    "else:\n",
    "    print(\"No salgas no hay nada\")    "
   ]
  },
  {
   "cell_type": "markdown",
   "metadata": {},
   "source": [
    "# 3.-"
   ]
  },
  {
   "cell_type": "code",
   "execution_count": 277,
   "metadata": {},
   "outputs": [
    {
     "name": "stdout",
     "output_type": "stream",
     "text": [
      "No se va a ver nada\n"
     ]
    }
   ],
   "source": [
    "tamano = 24\n",
    "velocidad = 26\n",
    "\n",
    "if (tamano>25 and velocidad>=25):\n",
    "    print(\"No ya valió madre\")\n",
    "\n",
    "elif(velocidad>=20 and velocidad<=25):\n",
    "    print(\"Sal a ver el rayito\")\n",
    "else:\n",
    "    print(\"No se va a ver nada\")"
   ]
  }
 ],
 "metadata": {
  "interpreter": {
   "hash": "0f2bbd419dfdaa86ab0988cd66e07ab8fc135ed5cc75cf6f6be33f890a159408"
  },
  "kernelspec": {
   "display_name": "Python 3.9.7 64-bit",
   "language": "python",
   "name": "python3"
  },
  "language_info": {
   "codemirror_mode": {
    "name": "ipython",
    "version": 3
   },
   "file_extension": ".py",
   "mimetype": "text/x-python",
   "name": "python",
   "nbconvert_exporter": "python",
   "pygments_lexer": "ipython3",
   "version": "3.9.7"
  },
  "orig_nbformat": 4
 },
 "nbformat": 4,
 "nbformat_minor": 2
}
