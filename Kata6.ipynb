{
 "cells": [
  {
   "cell_type": "markdown",
   "metadata": {},
   "source": [
    "# Ejercicio1: Crear y usar listas de Python"
   ]
  },
  {
   "cell_type": "code",
   "execution_count": 67,
   "metadata": {},
   "outputs": [
    {
     "name": "stdout",
     "output_type": "stream",
     "text": [
      "['Mercurio', 'Venus', 'Tierra', 'Marte', 'Júpiter', 'Saturno', 'Urano', 'Neptuno']\n"
     ]
    }
   ],
   "source": [
    "planets = [\"Mercurio\",\"Venus\",\"Tierra\",\"Marte\",\"Júpiter\",\"Saturno\",\"Urano\",\"Neptuno\"]\n",
    "print(planets)"
   ]
  },
  {
   "cell_type": "code",
   "execution_count": 68,
   "metadata": {},
   "outputs": [
    {
     "name": "stdout",
     "output_type": "stream",
     "text": [
      "Cantidad de planetas:  9\n",
      "Último planeta:  Plutón\n"
     ]
    }
   ],
   "source": [
    "planets.append(\"Plutón\")\n",
    "print(\"Cantidad de planetas: \",len(planets))\n",
    "print(\"Último planeta: \",planets[-1])"
   ]
  },
  {
   "cell_type": "markdown",
   "metadata": {},
   "source": [
    "# Ejercicio 2: Trabajando con datos de una lista"
   ]
  },
  {
   "cell_type": "code",
   "execution_count": 69,
   "metadata": {},
   "outputs": [
    {
     "name": "stdout",
     "output_type": "stream",
     "text": [
      "['Mercurio', 'Venus', 'Tierra', 'Marte', 'Jupiter', 'Saturno', 'Urano', 'Neptuno']\n"
     ]
    }
   ],
   "source": [
    "a = 1\n",
    "planetas = []\n",
    "\n",
    "while(a<=8):\n",
    "    planeta = input(\"Ingrese un planeta: \")\n",
    "    planetas.append(planeta)\n",
    "    a+=1\n",
    "    \n",
    "print(planetas)"
   ]
  },
  {
   "cell_type": "code",
   "execution_count": 70,
   "metadata": {},
   "outputs": [
    {
     "name": "stdout",
     "output_type": "stream",
     "text": [
      "Urano se encuentra en la posición:  7\n"
     ]
    }
   ],
   "source": [
    "busqueda = input(\"Escriba el nombre de un planeta para buscar: \")\n",
    "busqueda.capitalize()\n",
    "\n",
    "print(busqueda,\"se encuentra en la posición: \",planetas.index(busqueda)+1)"
   ]
  },
  {
   "cell_type": "code",
   "execution_count": 71,
   "metadata": {},
   "outputs": [
    {
     "name": "stdout",
     "output_type": "stream",
     "text": [
      "Planetas más cercanos al sol a partir de Urano\n",
      "['Mercurio', 'Venus', 'Tierra', 'Marte', 'Jupiter', 'Saturno']\n"
     ]
    }
   ],
   "source": [
    "print(\"Planetas más cercanos al sol a partir de\",busqueda)\n",
    "print(planetas[0:planetas.index(busqueda)])"
   ]
  },
  {
   "cell_type": "code",
   "execution_count": 72,
   "metadata": {},
   "outputs": [
    {
     "name": "stdout",
     "output_type": "stream",
     "text": [
      "Planetas más lejanos al sol a partir de Urano\n",
      "['Neptuno']\n"
     ]
    }
   ],
   "source": [
    "print(\"Planetas más lejanos al sol a partir de\",busqueda)\n",
    "print(planetas[planetas.index(busqueda)+1:])"
   ]
  }
 ],
 "metadata": {
  "interpreter": {
   "hash": "0f2bbd419dfdaa86ab0988cd66e07ab8fc135ed5cc75cf6f6be33f890a159408"
  },
  "kernelspec": {
   "display_name": "Python 3.9.7 64-bit",
   "language": "python",
   "name": "python3"
  },
  "language_info": {
   "codemirror_mode": {
    "name": "ipython",
    "version": 3
   },
   "file_extension": ".py",
   "mimetype": "text/x-python",
   "name": "python",
   "nbconvert_exporter": "python",
   "pygments_lexer": "ipython3",
   "version": "3.9.7"
  },
  "orig_nbformat": 4
 },
 "nbformat": 4,
 "nbformat_minor": 2
}
